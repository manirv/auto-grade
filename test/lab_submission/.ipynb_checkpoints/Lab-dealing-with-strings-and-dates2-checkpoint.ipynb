{
 "cells": [
  {
   "cell_type": "markdown",
   "metadata": {},
   "source": [
    "## Lab001- Dealing with Strings\n",
    "\n",
    "Reading Garbled Telephone Directory using Regular Expression\n",
    "You are given a garbled telephone directory as a string. Write a program to retrieve the phone numbers and names. In the input text, the names and phone numbers are mixed with some garbled text. Names start with Name: and interspersed with some text. Finally the 10 digit phone number in the format 123-456-7890 along with some mixed text. You are reguired to extract 3 names and phone numbers and assign it to a list of dictionaries named as 'answer'\n",
    "\n",
    "Input Example: phone_direct = \"Name:John Doe 'snumber201-442-2345was lost and the second Name is Name:Jane Dow and her number is @203-123-4683. The third number is Name:David Doe with the number #202-101-2021.\"\n",
    "\n",
    "Output Example: answer = [{\"John Doe\" : \"201-442-2345\"}\n",
    "\n",
    "Hint use regular expression. https://docs.python.org/2/howto/regex.html"
   ]
  },
  {
   "cell_type": "code",
   "execution_count": 9,
   "metadata": {},
   "outputs": [
    {
     "name": "stdout",
     "output_type": "stream",
     "text": [
      "{'John Doe': '201-442-2345', 'Jane Dow': '203-123-4683', 'David Doe': '202-101-2021'}\n"
     ]
    }
   ],
   "source": [
    "import re\n",
    "import numpy as np\n",
    "phone_direct = \"Name:John Doe 'snumber201-442-2345was lost and the second Name is Name:Jane Dow and her number is @203-123-4683. The third number is Name:David Doe with the number #202-101-2021.\"\n",
    "# Create a list of words\n",
    "phone_direct_copy = phone_direct.split()\n",
    "\n",
    "\n",
    "# Initialize a dictionary\n",
    "contacts = {}\n",
    "\n",
    "# Initialize the requirements from the questions \n",
    "# also instantiate the formart in which the number will be extracted\n",
    "clue = 'Name:'\n",
    "nums = r'\\d{3}-\\d{3}-\\d{4}'\n",
    "\n",
    "name=None\n",
    "phoneNumber=None\n",
    "\n",
    "for words in range(len(phone_direct_copy)):\n",
    "    if phoneNumber is None: \n",
    "        phoneNumber = re.search(nums, phone_direct_copy[words])\n",
    "    if name is None: \n",
    "        name = re.match(r'({0}\\w+)'.format(clue), phone_direct_copy[words])\n",
    "        if name is not None: \n",
    "            name = name.group() \n",
    "            name += ' ' + phone_direct_copy[words+1] \n",
    "            name = name.split(':')[1]\n",
    "    if name and phoneNumber: \n",
    "        contacts[name] = phoneNumber.group()\n",
    "        name = None\n",
    "        phoneNumber = None\n",
    "answer = contacts\n",
    "print(contacts)\n",
    "\n",
    "\n",
    "#####DO NOT Modify Below####\n",
    "def get_answer_1():\n",
    "    #set the 1st answer varible in return statement\n",
    "    return answer\n",
    "\n",
    "\n",
    "############################"
   ]
  },
  {
   "cell_type": "code",
   "execution_count": 7,
   "metadata": {
    "tags": [
     "grade"
    ]
   },
   "outputs": [
    {
     "data": {
      "application/javascript": [
       "var nb = IPython.notebook;\n",
       "var kernel = IPython.notebook.kernel;\n",
       "console.log(nb)\n",
       "var command = \"nb_name = '\" + nb.notebook_path  + \"'\";\n",
       "kernel.execute(command);\n",
       "var command2 = \"user_id = 'manirv'\"; \n",
       "kernel.execute(command2);\n"
      ],
      "text/plain": [
       "<IPython.core.display.Javascript object>"
      ]
     },
     "metadata": {},
     "output_type": "display_data"
    }
   ],
   "source": [
    "%%javascript\n",
    "var nb = IPython.notebook;\n",
    "var kernel = IPython.notebook.kernel;\n",
    "console.log(nb)\n",
    "var command = \"nb_name = '\" + nb.notebook_path  + \"'\";\n",
    "kernel.execute(command);\n",
    "var command2 = \"user_id = 'manirv'\"; \n",
    "kernel.execute(command2);\n"
   ]
  },
  {
   "cell_type": "code",
   "execution_count": 10,
   "metadata": {
    "tags": [
     "grade"
    ]
   },
   "outputs": [
    {
     "name": "stdout",
     "output_type": "stream",
     "text": [
      "{\n",
      "  \"result\": {\n",
      "    \"message\": [\n",
      "      \"Good Job\"\n",
      "    ], \n",
      "    \"result\": \"PASS\", \n",
      "    \"score\": 5\n",
      "  }\n",
      "}\n",
      "\n"
     ]
    }
   ],
   "source": [
    "import gradelab as lab\n",
    "#from rfclient import gradelab as lab\n",
    "#user_id = 'manirv'\n",
    "#from refactored import gradelab as lab\n",
    "user_id = 'manirv'\n",
    "lab_name = 'Lab-dealing-with-strings-and-dates2'\n",
    "print(lab.grade_lab())"
   ]
  },
  {
   "cell_type": "code",
   "execution_count": null,
   "metadata": {},
   "outputs": [],
   "source": []
  }
 ],
 "metadata": {
  "celltoolbar": "Tags",
  "kernelspec": {
   "display_name": "Python 3",
   "language": "python",
   "name": "python3"
  },
  "language_info": {
   "codemirror_mode": {
    "name": "ipython",
    "version": 3
   },
   "file_extension": ".py",
   "mimetype": "text/x-python",
   "name": "python",
   "nbconvert_exporter": "python",
   "pygments_lexer": "ipython3",
   "version": "3.7.4"
  }
 },
 "nbformat": 4,
 "nbformat_minor": 2
}
