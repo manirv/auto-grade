{
 "cells": [
  {
   "cell_type": "markdown",
   "metadata": {},
   "source": [
    "## Lab001- Dealing with Strings\n",
    "\n",
    "Reading Garbled Telephone Directory using Regular Expression\n",
    "You are given a garbled telephone directory as a string. Write a program to retrieve the phone numbers and names. In the input text, the names and phone numbers are mixed with some garbled text. Names start with Name: and interspersed with some text. Finally the 10 digit phone number in the format 123-456-7890 along with some mixed text. You are reguired to extract 3 names and phone numbers and assign it to a list of dictionaries named as 'answer'\n",
    "\n",
    "Input Example: phone_direct = \"Name:John Doe 'snumber201-442-2345was lost and the second Name is Name:Jane Dow and her number is @203-123-4683. The third number is Name:David Doe with the number #202-101-2021.\"\n",
    "\n",
    "Output Example: answer = [{\"John Doe\" : \"201-442-2345\"}\n",
    "\n",
    "Hint use regular expression. https://docs.python.org/2/howto/regex.html"
   ]
  },
  {
   "cell_type": "code",
   "execution_count": 4,
   "metadata": {},
   "outputs": [
    {
     "name": "stdout",
     "output_type": "stream",
     "text": [
      "10\n",
      "10\n"
     ]
    }
   ],
   "source": [
    "import re\n",
    "import numpy\n",
    "phone_direct = \"Name:John Doe 'snumber201-442-2345was lost and the second Name is Name:Jane Dow and her number is @203-123-4683. The third number is Name:David Doe with the number #202-101-2021.\"\n",
    "# Create a list of words\n",
    "phone_direct_copy = phone_direct.split()\n",
    "\n",
    "\n",
    "##Add your solution below\n",
    "test = 10\n",
    "test2 = 20\n",
    "answer = test\n",
    "print(answer)\n",
    "answer2 = test2\n",
    "print(answer2)\n",
    "\n",
    "\n",
    "\n",
    "#####DO NOT Modify Below####\n",
    "def get_answer_1():\n",
    "    #set the 1st answer varible in return statement\n",
    "    return answer\n",
    "\n",
    "def get_answer_2():\n",
    "    #set the 1st answer varible in return statement\n",
    "    return answer2\n",
    "\n",
    "\n",
    "############################\n"
   ]
  },
  {
   "cell_type": "code",
   "execution_count": 2,
   "metadata": {
    "tags": [
     "grade"
    ]
   },
   "outputs": [
    {
     "data": {
      "application/javascript": [
       "var nb = IPython.notebook;\n",
       "var kernel = IPython.notebook.kernel;\n",
       "console.log(nb)\n",
       "var command = \"nb_name = '\" + nb.notebook_path  + \"'\";\n",
       "kernel.execute(command);\n",
       "var command2 = \"user_id = 'manirv'\"; \n",
       "kernel.execute(command2);\n"
      ],
      "text/plain": [
       "<IPython.core.display.Javascript object>"
      ]
     },
     "metadata": {},
     "output_type": "display_data"
    }
   ],
   "source": [
    "%%javascript\n",
    "var nb = IPython.notebook;\n",
    "var kernel = IPython.notebook.kernel;\n",
    "console.log(nb)\n",
    "var command = \"nb_name = '\" + nb.notebook_path  + \"'\";\n",
    "kernel.execute(command);\n",
    "var command2 = \"user_id = 'manirv'\"; \n",
    "kernel.execute(command2);\n"
   ]
  },
  {
   "cell_type": "code",
   "execution_count": 7,
   "metadata": {
    "tags": [
     "grade"
    ]
   },
   "outputs": [
    {
     "name": "stdout",
     "output_type": "stream",
     "text": [
      "{\n",
      "  \"result\": {\n",
      "    \"message\": [\n",
      "      \"Please retry your solution\"\n",
      "    ], \n",
      "    \"result\": \"FAIL\", \n",
      "    \"score\": 2\n",
      "  }\n",
      "}\n",
      "\n"
     ]
    }
   ],
   "source": [
    "import gradelab as lab\n",
    "#from rfclient import gradelab as lab\n",
    "user_id = 'manirv'\n",
    "lab_name = 'Lab-test1'\n",
    "print(lab.grade_lab())"
   ]
  },
  {
   "cell_type": "code",
   "execution_count": null,
   "metadata": {},
   "outputs": [],
   "source": []
  }
 ],
 "metadata": {
  "celltoolbar": "Tags",
  "kernelspec": {
   "display_name": "Python 3",
   "language": "python",
   "name": "python3"
  },
  "language_info": {
   "codemirror_mode": {
    "name": "ipython",
    "version": 3
   },
   "file_extension": ".py",
   "mimetype": "text/x-python",
   "name": "python",
   "nbconvert_exporter": "python",
   "pygments_lexer": "ipython3",
   "version": "3.7.4"
  }
 },
 "nbformat": 4,
 "nbformat_minor": 2
}
