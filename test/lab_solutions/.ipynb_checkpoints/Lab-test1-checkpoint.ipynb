{
 "cells": [
  {
   "cell_type": "markdown",
   "metadata": {},
   "source": [
    "## Reading Garbled Telephone Directory using Regular Expression\n",
    "\n",
    "You are given a garbled telephone directory as a string. Write a program to retrieve the phone numbers and names.\n",
    "In the input text, the names and phone numbers are mixed with some garbled text. Names start with Name:<First Last> and interspersed with some text. Finally the 10 digit phone number in the format 123-456-7890 along with some mixed text.\n",
    "You are reguired to extract 3 names and phone numbers and assign it to a list of dictionaries\n",
    "\n",
    "Input Example: phone_direct = \"Name:John Doe 'snumber201-442-2345was lost and the second Name is Name:Jane Dow and her number is @203-123-4683. The third number is Name:David Doe with the number #202-101-2021.\"\n",
    "\n",
    "\n",
    "Output Example:\n",
    "contacts = [{\"John Doe\" : \"201-442-2345\"}\n",
    "\n",
    "Hint use regular expression. https://docs.python.org/2/howto/regex.html\n"
   ]
  },
  {
   "cell_type": "code",
   "execution_count": 20,
   "metadata": {
    "tags": [
     "solution"
    ]
   },
   "outputs": [
    {
     "name": "stdout",
     "output_type": "stream",
     "text": [
      "Please use RegularExpression re in your solution.\n",
      "<module 're' from '/home/mani/miniconda3/lib/python3.7/re.py'>\n",
      "Please use numpy in your solution.\n",
      "<module 'numpy' from '/home/mani/miniconda3/lib/python3.7/site-packages/numpy/__init__.py'>\n"
     ]
    },
    {
     "name": "stderr",
     "output_type": "stream",
     "text": [
      "/home/mani/miniconda3/lib/python3.7/site-packages/ipykernel_launcher.py:53: YAMLLoadWarning: calling yaml.load() without Loader=... is deprecated, as the default Loader is unsafe. Please read https://msg.pyyaml.org/load for full details.\n"
     ]
    }
   ],
   "source": [
    "import re \n",
    "import numpy as np\n",
    "\n",
    "phone_direct = \"Name:John Doe 'snumber201-442-2345was lost and the second Name is Name:Jane Dow and her number is @203-123-4683. The third number is Name:David Doe with the number #202-101-2021.\"\n",
    "# Create a list of words\n",
    "phone_direct_copy = phone_direct.split()\n",
    "\n",
    "np.arange(5)\n",
    "# Initialize a dictionary\n",
    "contacts = {}\n",
    "\n",
    "# Initialize the requirements from the questions \n",
    "# also instantiate the formart in which the number will be extracted\n",
    "clue = 'Name:'\n",
    "nums = r'\\d{3}-\\d{3}-\\d{4}'\n",
    "\n",
    "name=None\n",
    "phoneNumber=None\n",
    "for words in range(len(phone_direct_copy)):\n",
    "    if phoneNumber is None: \n",
    "        phoneNumber = re.search(nums, phone_direct_copy[words])\n",
    "    if name is None: \n",
    "        name = re.match(r'({0}\\w+)'.format(clue), phone_direct_copy[words])\n",
    "        if name is not None: \n",
    "            name = name.group() \n",
    "            name += ' ' + phone_direct_copy[words+1] \n",
    "            name = name.split(':')[1]\n",
    "    if name and phoneNumber: \n",
    "        contacts[name] = phoneNumber.group()\n",
    "        name = None\n",
    "        phoneNumber = None\n",
    "        \n",
    "test = 10\n",
    "answer = test \n",
    "test2 =20\n",
    "answer2 = test2\n",
    "\n",
    "def get_answer_1():\n",
    "    #set the 1st answer varible in return statement\n",
    "    return answer\n",
    "\n",
    "def get_answer_2():\n",
    "    #set the 1st answer varible in return statement\n",
    "    return answer2\n",
    "\n",
    "\n",
    "######################################################\n",
    "####Please do not modify below these lines############\n",
    "####Except the yaml conf in RED#######################\n",
    "#####################################################\n",
    "def yaml_conf(func):\n",
    "    import yaml\n",
    "    doc = yaml.load(func.__doc__)\n",
    "    return doc\n",
    "\n",
    "###Write your steps in the doc string as YAML format \n",
    "@yaml_conf\n",
    "def steps():\n",
    "    \"\"\"steps:\n",
    "    1 :\n",
    "        code         : re\n",
    "        message      : 'Please use RegularExpression re in your solution.'\n",
    "    2 :\n",
    "        code         : np\n",
    "        message      : 'Please use numpy in your solution.'\n",
    "    \"\"\"\n",
    "    None\n",
    "a = steps\n",
    "\n",
    "def test_steps():\n",
    "    import sys\n",
    "    slf = sys.modules[__name__]\n",
    "\n",
    "    for i in range(1,len(a['steps']) + 1):\n",
    "        code = a['steps'][i]['code']\n",
    "        print(a['steps'][i]['message'])\n",
    "        val = getattr(slf, code)\n",
    "        print(val)\n",
    "\n",
    "###Uncomment below line to test the steps configuration, before uploading solution to DB\n",
    "#test_steps()\n",
    "######\n"
   ]
  },
  {
   "cell_type": "code",
   "execution_count": 8,
   "metadata": {
    "tags": [
     "grade"
    ]
   },
   "outputs": [
    {
     "data": {
      "application/javascript": [
       "var nb = IPython.notebook;\n",
       "var kernel = IPython.notebook.kernel;\n",
       "var command = \"nb_name = '\" + nb.notebook_path  + \"'\";\n",
       "kernel.execute(command);\n"
      ],
      "text/plain": [
       "<IPython.core.display.Javascript object>"
      ]
     },
     "metadata": {},
     "output_type": "display_data"
    }
   ],
   "source": [
    "%%javascript\n",
    "var nb = IPython.notebook;\n",
    "var kernel = IPython.notebook.kernel;\n",
    "var command = \"nb_name = '\" + nb.notebook_path  + \"'\";\n",
    "kernel.execute(command);\n"
   ]
  },
  {
   "cell_type": "code",
   "execution_count": 18,
   "metadata": {
    "tags": [
     "grade"
    ]
   },
   "outputs": [
    {
     "name": "stdout",
     "output_type": "stream",
     "text": [
      "Lab-test1\n",
      "{\n",
      "  \"result\": {\n",
      "    \"result\": \"SUCCESS\"\n",
      "  }\n",
      "}\n",
      "\n"
     ]
    }
   ],
   "source": [
    "#from refactored import auto_grade\n",
    "import os\n",
    "import json\n",
    "import requests\n",
    "lab_name = os.path.basename(nb_name).split('.')[0]\n",
    "\n",
    "def get_code_cell(input_content_file):\n",
    "    parsed_json = ''\n",
    "    with open(input_content_file) as json_data:\n",
    "        parsed_json = json.load(json_data)\n",
    "\n",
    "    code_content = ''\n",
    "    cells = parsed_json['cells']\n",
    "\n",
    "    for cell in cells:\n",
    "        cell_type = cell['cell_type']\n",
    "\n",
    "        if 'metadata' not in cell:\n",
    "            # raise ValueError(\"No metadata found\")\n",
    "            print(\"No metadata found\")\n",
    "\n",
    "        if cell_type == 'code':\n",
    "            if cell['metadata'].get('tags') != None and cell['metadata'].get('tags')[0] == 'solution':\n",
    "                code_cell = cell['source']\n",
    "                for code_line in code_cell:\n",
    "                    code_content = code_content + '\\n' + code_line\n",
    "\n",
    "    return code_content\n",
    "\n",
    "def save_lab_solution(lab_name,lab_content):\n",
    "    # api-endpoint\n",
    "    print(lab_name)\n",
    "    URL = 'http://localhost:5000/rf/api/v1.0/key'\n",
    "\n",
    "    #URL = \"https://labgradeapi.herokuapp.com/rf/api/v1.0/key\"\n",
    "\n",
    "    # defining a params dict for the parameters to be sent to the API\n",
    "    data = {'code': lab_content, 'labname': lab_name }\n",
    "\n",
    "    # sending get request and saving the response as response object\n",
    "    r = requests.post(url=URL, json=data)\n",
    "    return r.text\n",
    "\n",
    "lab_key = get_code_cell(lab_name+'.ipynb')\n",
    "r = save_lab_solution(lab_name,lab_key)\n",
    "print(r)"
   ]
  }
 ],
 "metadata": {
  "celltoolbar": "Tags",
  "kernelspec": {
   "display_name": "Python 3",
   "language": "python",
   "name": "python3"
  },
  "language_info": {
   "codemirror_mode": {
    "name": "ipython",
    "version": 3
   },
   "file_extension": ".py",
   "mimetype": "text/x-python",
   "name": "python",
   "nbconvert_exporter": "python",
   "pygments_lexer": "ipython3",
   "version": "3.7.4"
  }
 },
 "nbformat": 4,
 "nbformat_minor": 1
}
